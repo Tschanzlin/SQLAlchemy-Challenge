{
 "cells": [
  {
   "cell_type": "code",
   "execution_count": 148,
   "metadata": {},
   "outputs": [],
   "source": [
    "# Import plotting tools\n",
    "%matplotlib inline\n",
    "from matplotlib import style\n",
    "style.use('fivethirtyeight')\n",
    "import matplotlib.pyplot as plt\n",
    "import matplotlib.ticker as ticker\n"
   ]
  },
  {
   "cell_type": "code",
   "execution_count": 149,
   "metadata": {},
   "outputs": [],
   "source": [
    "# Import stats and analystical toos\n",
    "import numpy as np\n",
    "from scipy import stats\n"
   ]
  },
  {
   "cell_type": "code",
   "execution_count": 150,
   "metadata": {},
   "outputs": [],
   "source": [
    "# Import other tools\n",
    "import pandas as pd\n",
    "import datetime as dt\n"
   ]
  },
  {
   "cell_type": "markdown",
   "metadata": {},
   "source": [
    "# Reflect Tables into SQLAlchemy ORM"
   ]
  },
  {
   "cell_type": "code",
   "execution_count": 151,
   "metadata": {},
   "outputs": [],
   "source": [
    "# Python SQL toolkit and Object Relational Mapper\n",
    "import sqlalchemy\n",
    "from sqlalchemy.ext.automap import automap_base\n",
    "from sqlalchemy.orm import Session\n",
    "from sqlalchemy import create_engine, func"
   ]
  },
  {
   "cell_type": "code",
   "execution_count": 152,
   "metadata": {},
   "outputs": [],
   "source": [
    "engine = create_engine(\"sqlite:///Resources/hawaii.sqlite\")"
   ]
  },
  {
   "cell_type": "code",
   "execution_count": 153,
   "metadata": {},
   "outputs": [],
   "source": [
    "# reflect an existing database into a new model\n",
    "Base = automap_base()\n",
    "\n",
    "# reflect the tables\n",
    "Base.prepare(engine, reflect=True)"
   ]
  },
  {
   "cell_type": "code",
   "execution_count": 154,
   "metadata": {},
   "outputs": [
    {
     "data": {
      "text/plain": [
       "['measurement', 'station']"
      ]
     },
     "execution_count": 154,
     "metadata": {},
     "output_type": "execute_result"
    }
   ],
   "source": [
    "# We can view all of the classes that automap found\n",
    "Base.classes.keys()"
   ]
  },
  {
   "cell_type": "code",
   "execution_count": 155,
   "metadata": {},
   "outputs": [],
   "source": [
    "# Save references to each table\n",
    "Measurement = Base.classes.measurement\n",
    "Station = Base.classes.station\n"
   ]
  },
  {
   "cell_type": "code",
   "execution_count": 156,
   "metadata": {},
   "outputs": [],
   "source": [
    "# Create our session (link) from Python to the DB\n",
    "session = Session(engine)"
   ]
  },
  {
   "cell_type": "code",
   "execution_count": 157,
   "metadata": {},
   "outputs": [
    {
     "data": {
      "text/plain": [
       "{'_sa_instance_state': <sqlalchemy.orm.state.InstanceState at 0x1522f396860>,\n",
       " 'tobs': 65.0,\n",
       " 'date': '2010-01-01',\n",
       " 'id': 1,\n",
       " 'prcp': 0.08,\n",
       " 'station': 'USC00519397'}"
      ]
     },
     "execution_count": 157,
     "metadata": {},
     "output_type": "execute_result"
    }
   ],
   "source": [
    "# View Masurement table columns\n",
    "first_row = session.query(Measurement).first()\n",
    "first_row.__dict__"
   ]
  },
  {
   "cell_type": "code",
   "execution_count": 158,
   "metadata": {},
   "outputs": [
    {
     "data": {
      "text/plain": [
       "{'_sa_instance_state': <sqlalchemy.orm.state.InstanceState at 0x1522f323be0>,\n",
       " 'latitude': 21.2716,\n",
       " 'station': 'USC00519397',\n",
       " 'id': 1,\n",
       " 'longitude': -157.8168,\n",
       " 'name': 'WAIKIKI 717.2, HI US',\n",
       " 'elevation': 3.0}"
      ]
     },
     "execution_count": 158,
     "metadata": {},
     "output_type": "execute_result"
    }
   ],
   "source": [
    "# View Station table columns\n",
    "first_row = session.query(Station).first()\n",
    "first_row.__dict__"
   ]
  },
  {
   "cell_type": "markdown",
   "metadata": {},
   "source": [
    "# Exploratory Climate Analysis"
   ]
  },
  {
   "cell_type": "code",
   "execution_count": 172,
   "metadata": {},
   "outputs": [
    {
     "data": {
      "image/png": "[encoded data removed]",
      "text/plain": [
       "<Figure size 504x288 with 1 Axes>"
      ]
     },
     "metadata": {},
     "output_type": "display_data"
    }
   ],
   "source": [
    "## Design a query to retrieve the last 12 months of precipitation data and plot the results\n",
    "\n",
    "# Calculate the date 1 year ago from the last data point in the database\n",
    "session.query(Measurement.date).order_by(Measurement.date.desc()).first()\n",
    "#session.query(Measurement.date).filter(Measurement.date >= '2016-08-23').order_by(Measurement.date).count()\n",
    "\n",
    "# Perform a query to retrieve the data and precipitation scores\n",
    "from sqlalchemy.sql import func\n",
    "sel = [func.sum(Measurement.prcp), Measurement.date]\n",
    "\n",
    "rainfall = session.query(*sel).\\\n",
    "    order_by(Measurement.date).\\\n",
    "    filter(Measurement.date >= '2016-08-24').\\\n",
    "    group_by(Measurement.date).all()\n",
    "rainfall\n",
    "\n",
    "# Save the query results as a Pandas DataFrame and set the index to the date column\n",
    "df = pd.DataFrame(rainfall, columns=[\"Precipitation\", \"Date\"]).set_index(\"Date\")\n",
    "df.head(50)\n",
    "\n",
    "# Use Pandas Plotting with Matplotlib to plot the data\n",
    "fig, ax = plt.subplots(figsize=(7,4))\n",
    "plt.xticks(rotation=90)\n",
    "plt.title(\"Total Daily Precipitation\", fontsize=14)\n",
    "ax.bar(df.index, df[\"Precipitation\"], color=\"b\")\n",
    "ax.xaxis.set_major_locator(ticker.MultipleLocator(31))\n"
   ]
  },
  {
   "cell_type": "code",
   "execution_count": 160,
   "metadata": {},
   "outputs": [
    {
     "data": {
      "text/plain": [
       "[(61.0, 70.34693877551021, 78.0)]"
      ]
     },
     "execution_count": 160,
     "metadata": {},
     "output_type": "execute_result"
    }
   ],
   "source": [
    "## Daily Rainfall Average Challenge - Part II\n",
    "\n",
    "# Create a query that will calculate the daily normals \n",
    "# (i.e. the averages for tmin, tmax, and tavg for all historic data matching a specific month and day)\n",
    "\n",
    "def daily_normals(date):\n",
    "    \"\"\"Daily Normals.\n",
    "    \n",
    "    Args:\n",
    "        date (str): A date string in the format '%m-%d'\n",
    "        \n",
    "    Returns:\n",
    "        A list of tuples containing the daily normals, tmin, tavg, and tmax\n",
    "    \n",
    "    \"\"\"\n",
    "    \n",
    "    sel = [func.min(Measurement.tobs), func.avg(Measurement.tobs), func.max(Measurement.tobs)]\n",
    "    return session.query(*sel).filter(func.strftime(\"%m-%d\", Measurement.date) == date).all()\n",
    "    \n",
    "daily_normals(\"12-23\")"
   ]
  },
  {
   "cell_type": "code",
   "execution_count": 161,
   "metadata": {},
   "outputs": [
    {
     "data": {
      "text/html": [
       "<div>\n",
       "<style scoped>\n",
       "    .dataframe tbody tr th:only-of-type {\n",
       "        vertical-align: middle;\n",
       "    }\n",
       "\n",
       "    .dataframe tbody tr th {\n",
       "        vertical-align: top;\n",
       "    }\n",
       "\n",
       "    .dataframe thead th {\n",
       "        text-align: right;\n",
       "    }\n",
       "</style>\n",
       "<table border=\"1\" class=\"dataframe\">\n",
       "  <thead>\n",
       "    <tr style=\"text-align: right;\">\n",
       "      <th></th>\n",
       "      <th>Precipitation</th>\n",
       "    </tr>\n",
       "  </thead>\n",
       "  <tbody>\n",
       "    <tr>\n",
       "      <th>count</th>\n",
       "      <td>365.000000</td>\n",
       "    </tr>\n",
       "    <tr>\n",
       "      <th>mean</th>\n",
       "      <td>0.974164</td>\n",
       "    </tr>\n",
       "    <tr>\n",
       "      <th>std</th>\n",
       "      <td>1.776466</td>\n",
       "    </tr>\n",
       "    <tr>\n",
       "      <th>min</th>\n",
       "      <td>0.000000</td>\n",
       "    </tr>\n",
       "    <tr>\n",
       "      <th>25%</th>\n",
       "      <td>0.050000</td>\n",
       "    </tr>\n",
       "    <tr>\n",
       "      <th>50%</th>\n",
       "      <td>0.400000</td>\n",
       "    </tr>\n",
       "    <tr>\n",
       "      <th>75%</th>\n",
       "      <td>1.080000</td>\n",
       "    </tr>\n",
       "    <tr>\n",
       "      <th>max</th>\n",
       "      <td>14.280000</td>\n",
       "    </tr>\n",
       "  </tbody>\n",
       "</table>\n",
       "</div>"
      ],
      "text/plain": [
       "       Precipitation\n",
       "count     365.000000\n",
       "mean        0.974164\n",
       "std         1.776466\n",
       "min         0.000000\n",
       "25%         0.050000\n",
       "50%         0.400000\n",
       "75%         1.080000\n",
       "max        14.280000"
      ]
     },
     "execution_count": 161,
     "metadata": {},
     "output_type": "execute_result"
    }
   ],
   "source": [
    "# Use Pandas to calcualte the summary statistics for the precipitation data\n",
    "df.describe()"
   ]
  },
  {
   "cell_type": "code",
   "execution_count": 162,
   "metadata": {},
   "outputs": [
    {
     "data": {
      "text/plain": [
       "9"
      ]
     },
     "execution_count": 162,
     "metadata": {},
     "output_type": "execute_result"
    }
   ],
   "source": [
    "# Design a query to show how many stations are available in this dataset?\n",
    "\n",
    "# Simple queries on Station database returns 9 unique stations\n",
    "session.query(Station.station).all()\n",
    "session.query(Station.station).count()\n",
    "\n",
    "# Confirm results by using groupby function in Measurement databse; also returns 9 stations\n",
    "session.query(Measurement.station).group_by(Measurement.station).all()\n",
    "session.query(Measurement.station).group_by(Measurement.station).count()\n"
   ]
  },
  {
   "cell_type": "code",
   "execution_count": 163,
   "metadata": {},
   "outputs": [
    {
     "data": {
      "text/html": [
       "<div>\n",
       "<style scoped>\n",
       "    .dataframe tbody tr th:only-of-type {\n",
       "        vertical-align: middle;\n",
       "    }\n",
       "\n",
       "    .dataframe tbody tr th {\n",
       "        vertical-align: top;\n",
       "    }\n",
       "\n",
       "    .dataframe thead th {\n",
       "        text-align: right;\n",
       "    }\n",
       "</style>\n",
       "<table border=\"1\" class=\"dataframe\">\n",
       "  <thead>\n",
       "    <tr style=\"text-align: right;\">\n",
       "      <th></th>\n",
       "      <th>Stations</th>\n",
       "      <th>Total TOBS</th>\n",
       "    </tr>\n",
       "  </thead>\n",
       "  <tbody>\n",
       "    <tr>\n",
       "      <th>6</th>\n",
       "      <td>USC00519281</td>\n",
       "      <td>2772</td>\n",
       "    </tr>\n",
       "    <tr>\n",
       "      <th>7</th>\n",
       "      <td>USC00519397</td>\n",
       "      <td>2724</td>\n",
       "    </tr>\n",
       "    <tr>\n",
       "      <th>1</th>\n",
       "      <td>USC00513117</td>\n",
       "      <td>2709</td>\n",
       "    </tr>\n",
       "    <tr>\n",
       "      <th>8</th>\n",
       "      <td>USC00519523</td>\n",
       "      <td>2669</td>\n",
       "    </tr>\n",
       "    <tr>\n",
       "      <th>3</th>\n",
       "      <td>USC00516128</td>\n",
       "      <td>2612</td>\n",
       "    </tr>\n",
       "    <tr>\n",
       "      <th>2</th>\n",
       "      <td>USC00514830</td>\n",
       "      <td>2202</td>\n",
       "    </tr>\n",
       "    <tr>\n",
       "      <th>0</th>\n",
       "      <td>USC00511918</td>\n",
       "      <td>1979</td>\n",
       "    </tr>\n",
       "    <tr>\n",
       "      <th>4</th>\n",
       "      <td>USC00517948</td>\n",
       "      <td>1372</td>\n",
       "    </tr>\n",
       "    <tr>\n",
       "      <th>5</th>\n",
       "      <td>USC00518838</td>\n",
       "      <td>511</td>\n",
       "    </tr>\n",
       "  </tbody>\n",
       "</table>\n",
       "</div>"
      ],
      "text/plain": [
       "      Stations  Total TOBS\n",
       "6  USC00519281        2772\n",
       "7  USC00519397        2724\n",
       "1  USC00513117        2709\n",
       "8  USC00519523        2669\n",
       "3  USC00516128        2612\n",
       "2  USC00514830        2202\n",
       "0  USC00511918        1979\n",
       "4  USC00517948        1372\n",
       "5  USC00518838         511"
      ]
     },
     "execution_count": 163,
     "metadata": {},
     "output_type": "execute_result"
    }
   ],
   "source": [
    "## What are the most active stations? (i.e. what stations have the most rows)?\n",
    "# Use count function on tempurature observations to determine overall activity\n",
    "active_stations = session.query(Measurement.station, func.count(Measurement.tobs)).\\\n",
    "    group_by(Measurement.station).all()\n",
    "active_stations\n",
    "\n",
    "# List the stations and the counts in descending order.\n",
    "pd.DataFrame(active_stations, columns=[\"Stations\", \"Total TOBS\"]).sort_values(by=\"Total TOBS\", ascending=False)\n"
   ]
  },
  {
   "cell_type": "code",
   "execution_count": 164,
   "metadata": {},
   "outputs": [
    {
     "name": "stdout",
     "output_type": "stream",
     "text": [
      "[('USC00519281', 85.0)] [('USC00519281', 54.0)] [('USC00519281', 71.66378066378067)]\n"
     ]
    }
   ],
   "source": [
    "# Using the station id from the previous query, calculate the lowest temperature recorded, \n",
    "# highest temperature recorded, and average temperature of the most active station?\n",
    "\n",
    "low_temp = session.query(Measurement.station, func.min(Measurement.tobs)).\\\n",
    "    filter(Measurement.station == \"USC00519281\").all()\n",
    "low_temp\n",
    "\n",
    "high_temp = session.query(Measurement.station, func.max(Measurement.tobs)).\\\n",
    "    filter(Measurement.station == \"USC00519281\").all()\n",
    "high_temp\n",
    "\n",
    "avg_temp = session.query(Measurement.station, func.avg(Measurement.tobs)).\\\n",
    "    filter(Measurement.station == \"USC00519281\").all()\n",
    "avg_temp\n",
    "\n",
    "print(high_temp, low_temp, avg_temp)"
   ]
  },
  {
   "cell_type": "code",
   "execution_count": 165,
   "metadata": {},
   "outputs": [
    {
     "data": {
      "text/plain": [
       "(array([ 5.,  7.,  7., 12., 27., 41., 40., 57., 66., 52., 29.,  8.]),\n",
       " array([59., 61., 63., 65., 67., 69., 71., 73., 75., 77., 79., 81., 83.]),\n",
       " <a list of 12 Patch objects>)"
      ]
     },
     "execution_count": 165,
     "metadata": {},
     "output_type": "execute_result"
    },
    {
     "data": {
      "image/png": "[encoded data removed]",
      "text/plain": [
       "<Figure size 504x288 with 1 Axes>"
      ]
     },
     "metadata": {},
     "output_type": "display_data"
    }
   ],
   "source": [
    "# Choose the station with the highest number of temperature observations.\n",
    "# Query the last 12 months of temperature observation data for this station\n",
    "temps = session.query(Measurement.tobs).\\\n",
    "    filter(Measurement.station == \"USC00519281\").\\\n",
    "    filter(Measurement.date >= '2016-08-24').all()\n",
    "\n",
    "df1 = pd.DataFrame(temps, columns=[\"Daily Temp\"])\n",
    "\n",
    "# Plot results as a histogram\n",
    "fig, ax = plt.subplots(figsize=(7,4))\n",
    "plt.title(\"Station UC00519281 Daily Tempurature Measurements\", fontsize=14)\n",
    "ax.hist(df1[\"Daily Temp\"], bins=12)\n",
    "\n",
    "\n"
   ]
  },
  {
   "cell_type": "markdown",
   "metadata": {},
   "source": [
    "## Bonus Challenge Assignment"
   ]
  },
  {
   "cell_type": "code",
   "execution_count": 166,
   "metadata": {},
   "outputs": [
    {
     "name": "stdout",
     "output_type": "stream",
     "text": [
      "Jun Avg: 74.94\n",
      "Dec Avg: 71.04\n",
      "T_score: 31.604\n",
      "p_value: 0.0\n"
     ]
    }
   ],
   "source": [
    "## Tempurature Analysis I Challenge\n",
    "\n",
    "# Identify the averate tempurate in June at all stations across all available years:\n",
    "jun_avg = session.query(func.avg(Measurement.tobs)).\\\n",
    "    filter(func.strftime(\"%m\", Measurement.date) == \"06\").all()\n",
    "jun_avg = \"%4.2f\" % jun_avg[0]\n",
    "\n",
    "# Identify the averate tempurate in Decmeber at all stations across all available years:\n",
    "dec_avg = session.query(func.avg(Measurement.tobs)).\\\n",
    "    filter(func.strftime(\"%m\", Measurement.date) == \"12\").all()\n",
    "dec_avg = \"%4.2f\" % dec_avg[0]\n",
    "\n",
    "# Use a t-test to determine whether the difference is statistically significant (NOTE:  Am using an unpaired test\n",
    "# as the samples compare tempuratures across two different months or seasons, rather than comparing tempurature\n",
    "# variations in the same month over a period of years)\n",
    "jun_all = session.query(Measurement.tobs).filter(func.strftime(\"%m\", Measurement.date) == \"06\").all()\n",
    "dec_all = session.query(Measurement.tobs).filter(func.strftime(\"%m\", Measurement.date) == \"12\").all()\n",
    "ttest = stats.ttest_ind(jun_all, dec_all)\n",
    "\n",
    "print(\"Jun Avg:\", jun_avg)\n",
    "print(\"Dec Avg:\", dec_avg)\n",
    "print(\"T_score:\", round(list(ttest)[0][0], 3))\n",
    "print(\"p_value:\", round(list(ttest)[1][0], 3))\n"
   ]
  },
  {
   "cell_type": "code",
   "execution_count": 167,
   "metadata": {},
   "outputs": [
    {
     "name": "stdout",
     "output_type": "stream",
     "text": [
      "[(62.0, 70.3076923076923, 78.0)]\n"
     ]
    }
   ],
   "source": [
    "## Tempurate Analysis II Challenge\n",
    "\n",
    "# Calculate the min, avg, and max tempuratures for a selected two week trip period using the calc temp function\n",
    "# For trip, use the previous year's data for the same dates (trip dates )\n",
    "def calc_temps(start_date, end_date):\n",
    "    \"\"\"TMIN, TAVG, and TMAX for a list of dates.\n",
    "    \n",
    "    Args:\n",
    "        start_date (string): A date string in the format %Y-%m-%d\n",
    "        end_date (string): A date string in the format %Y-%m-%d\n",
    "        \n",
    "    Returns:\n",
    "        TMIN, TAVG, and TMAX\n",
    "    \"\"\"\n",
    "    \n",
    "    return session.query(func.min(Measurement.tobs), func.avg(Measurement.tobs), func.max(Measurement.tobs)).\\\n",
    "        filter(Measurement.date >= start_date).filter(Measurement.date <= end_date).all()\n",
    "\n",
    "print(calc_temps('2016-12-23', '2017-01-06'))"
   ]
  },
  {
   "cell_type": "code",
   "execution_count": 168,
   "metadata": {},
   "outputs": [
    {
     "data": {
      "text/plain": [
       "Text(0.5, 1.0, 'Trip Average Tempurature:  12/23/16- 01/06/17')"
      ]
     },
     "execution_count": 168,
     "metadata": {},
     "output_type": "execute_result"
    },
    {
     "data": {
      "image/png": "[encoded data removed]",
      "text/plain": [
       "<Figure size 432x288 with 1 Axes>"
      ]
     },
     "metadata": {},
     "output_type": "display_data"
    }
   ],
   "source": [
    "# Use `calc_temps` to calculate the tmin, tavg, and tmax for your trip; use peak-to-peak (tmax-tmin) as y-error (yerr)\n",
    "temps = calc_temps(\"2016-12-23\", \"2017-01-06\")\n",
    "tmin = temps[0][0]\n",
    "tavg = temps[0][1]\n",
    "tmax = temps[0][2]\n",
    "error = tmax-tmin\n",
    "x_axis = np.arange(1)\n",
    "\n",
    "# Plot chart values\n",
    "fig, ax = plt.subplots()\n",
    "ax.bar(\"Temp Range\", tavg, color=\"b\", width=0.5, yerr=error, align='center', ecolor='black', capsize=5)\n",
    "ax.set_ylabel(\"Tempurature (%F)\")\n",
    "\n",
    "plt.xlim(-1, +1)\n",
    "plt.ylim(-5, tmax+30)\n",
    "# ax.set_xticks(1)\n",
    "\n",
    "ax.set_title(\"Trip Average Tempurature:  12/23/16- 01/06/17\", fontsize=15)\n",
    "#ax.yaxis.grid(True)\n"
   ]
  },
  {
   "cell_type": "code",
   "execution_count": 170,
   "metadata": {},
   "outputs": [
    {
     "data": {
      "text/html": [
       "<div>\n",
       "<style scoped>\n",
       "    .dataframe tbody tr th:only-of-type {\n",
       "        vertical-align: middle;\n",
       "    }\n",
       "\n",
       "    .dataframe tbody tr th {\n",
       "        vertical-align: top;\n",
       "    }\n",
       "\n",
       "    .dataframe thead th {\n",
       "        text-align: right;\n",
       "    }\n",
       "</style>\n",
       "<table border=\"1\" class=\"dataframe\">\n",
       "  <thead>\n",
       "    <tr style=\"text-align: right;\">\n",
       "      <th></th>\n",
       "      <th>Name</th>\n",
       "      <th>Latitude</th>\n",
       "      <th>Longitude</th>\n",
       "      <th>Elevation</th>\n",
       "      <th>Avg Precip</th>\n",
       "    </tr>\n",
       "  </thead>\n",
       "  <tbody>\n",
       "    <tr>\n",
       "      <th>USC00519397</th>\n",
       "      <td>WAIKIKI 717.2, HI US</td>\n",
       "      <td>21.27160</td>\n",
       "      <td>-157.81680</td>\n",
       "      <td>3.0</td>\n",
       "      <td>0.23</td>\n",
       "    </tr>\n",
       "    <tr>\n",
       "      <th>USC00519523</th>\n",
       "      <td>WAIMANALO EXPERIMENTAL FARM, HI US</td>\n",
       "      <td>21.33556</td>\n",
       "      <td>-157.71139</td>\n",
       "      <td>19.5</td>\n",
       "      <td>0.93</td>\n",
       "    </tr>\n",
       "    <tr>\n",
       "      <th>USC00513117</th>\n",
       "      <td>KANEOHE 838.1, HI US</td>\n",
       "      <td>21.42340</td>\n",
       "      <td>-157.80150</td>\n",
       "      <td>14.6</td>\n",
       "      <td>1.95</td>\n",
       "    </tr>\n",
       "    <tr>\n",
       "      <th>USC00514830</th>\n",
       "      <td>KUALOA RANCH HEADQUARTERS 886.9, HI US</td>\n",
       "      <td>21.52130</td>\n",
       "      <td>-157.83740</td>\n",
       "      <td>7.0</td>\n",
       "      <td>2.00</td>\n",
       "    </tr>\n",
       "    <tr>\n",
       "      <th>USC00519281</th>\n",
       "      <td>WAIHEE 837.5, HI US</td>\n",
       "      <td>21.45167</td>\n",
       "      <td>-157.84889</td>\n",
       "      <td>32.9</td>\n",
       "      <td>2.08</td>\n",
       "    </tr>\n",
       "    <tr>\n",
       "      <th>USC00516128</th>\n",
       "      <td>MANOA LYON ARBO 785.2, HI US</td>\n",
       "      <td>21.33310</td>\n",
       "      <td>-157.80250</td>\n",
       "      <td>152.4</td>\n",
       "      <td>8.95</td>\n",
       "    </tr>\n",
       "    <tr>\n",
       "      <th>USC00517948</th>\n",
       "      <td>PEARL CITY, HI US</td>\n",
       "      <td>21.39340</td>\n",
       "      <td>-157.97510</td>\n",
       "      <td>11.9</td>\n",
       "      <td>NaN</td>\n",
       "    </tr>\n",
       "  </tbody>\n",
       "</table>\n",
       "</div>"
      ],
      "text/plain": [
       "                                               Name  Latitude  Longitude  \\\n",
       "USC00519397                    WAIKIKI 717.2, HI US  21.27160 -157.81680   \n",
       "USC00519523      WAIMANALO EXPERIMENTAL FARM, HI US  21.33556 -157.71139   \n",
       "USC00513117                    KANEOHE 838.1, HI US  21.42340 -157.80150   \n",
       "USC00514830  KUALOA RANCH HEADQUARTERS 886.9, HI US  21.52130 -157.83740   \n",
       "USC00519281                     WAIHEE 837.5, HI US  21.45167 -157.84889   \n",
       "USC00516128            MANOA LYON ARBO 785.2, HI US  21.33310 -157.80250   \n",
       "USC00517948                       PEARL CITY, HI US  21.39340 -157.97510   \n",
       "\n",
       "             Elevation  Avg Precip  \n",
       "USC00519397        3.0        0.23  \n",
       "USC00519523       19.5        0.93  \n",
       "USC00513117       14.6        1.95  \n",
       "USC00514830        7.0        2.00  \n",
       "USC00519281       32.9        2.08  \n",
       "USC00516128      152.4        8.95  \n",
       "USC00517948       11.9         NaN  "
      ]
     },
     "execution_count": 170,
     "metadata": {},
     "output_type": "execute_result"
    }
   ],
   "source": [
    "## Daily Rainfall Average Challenge - Part I (A)\n",
    "# NOTE:  This was the second attempt, using a simpler, combined query which ensured that any station data from \n",
    "        # the Station table had to have a corresponding Station in the Measurement table. \n",
    "    \n",
    "# Query data from SQL Alchemy    \n",
    "output2 = [Station.station, Station.name, Station.latitude, Station.longitude, Station.elevation, \n",
    "          func.sum(Measurement.prcp)]\n",
    "\n",
    "rainfall2 = session.query(*output2).\\\n",
    "    filter(Measurement.station == Station.station).\\\n",
    "    filter(Measurement.date >= \"2016-12-23\").\\\n",
    "    filter(Measurement.date <= \"2017-01-06\").\\\n",
    "    group_by(Measurement.station).all()\n",
    "\n",
    "\n",
    "# Loop through data to organize into list format for dataframe\n",
    "station_list2 =[]\n",
    "name_list2 =[]\n",
    "lat_list2 = []\n",
    "long_list2 =[]\n",
    "elev_list2 = []\n",
    "precip_list2 = []\n",
    "\n",
    "for record in rainfall2:\n",
    "    (Station, Name, Latitude, Longitude, Elevation, Avg_Precip) = record\n",
    "    station_list2.append(record[0])\n",
    "    name_list2.append(record[1])\n",
    "    lat_list2.append(record[2])\n",
    "    long_list2.append(record[3])\n",
    "    elev_list2.append(record[4])\n",
    "    precip_list2.append(record[5])\n",
    "\n",
    "# Create dataframe\n",
    "input2 = {\"Name\": name_list2, \"Latitude\": lat_list2, \"Longitude\": long_list2, \"Elevation\": elev_list2, \n",
    "          \"Avg Precip\": precip_list2}\n",
    "pd.DataFrame(input2, station_list2).sort_values(by=\"Avg Precip\")\n"
   ]
  },
  {
   "cell_type": "code",
   "execution_count": 169,
   "metadata": {},
   "outputs": [
    {
     "data": {
      "text/html": [
       "<div>\n",
       "<style scoped>\n",
       "    .dataframe tbody tr th:only-of-type {\n",
       "        vertical-align: middle;\n",
       "    }\n",
       "\n",
       "    .dataframe tbody tr th {\n",
       "        vertical-align: top;\n",
       "    }\n",
       "\n",
       "    .dataframe thead th {\n",
       "        text-align: right;\n",
       "    }\n",
       "</style>\n",
       "<table border=\"1\" class=\"dataframe\">\n",
       "  <thead>\n",
       "    <tr style=\"text-align: right;\">\n",
       "      <th></th>\n",
       "      <th>Name</th>\n",
       "      <th>Latitude</th>\n",
       "      <th>Longitude</th>\n",
       "      <th>Elevation</th>\n",
       "      <th>Avg. Precip</th>\n",
       "    </tr>\n",
       "  </thead>\n",
       "  <tbody>\n",
       "    <tr>\n",
       "      <th>USC00519397</th>\n",
       "      <td>WAIKIKI 717.2, HI US</td>\n",
       "      <td>21.27160</td>\n",
       "      <td>-157.81680</td>\n",
       "      <td>3.0</td>\n",
       "      <td>0.23</td>\n",
       "    </tr>\n",
       "    <tr>\n",
       "      <th>USC00519523</th>\n",
       "      <td>WAIMANALO EXPERIMENTAL FARM, HI US</td>\n",
       "      <td>21.33556</td>\n",
       "      <td>-157.71139</td>\n",
       "      <td>19.5</td>\n",
       "      <td>0.93</td>\n",
       "    </tr>\n",
       "    <tr>\n",
       "      <th>USC00513117</th>\n",
       "      <td>KANEOHE 838.1, HI US</td>\n",
       "      <td>21.42340</td>\n",
       "      <td>-157.80150</td>\n",
       "      <td>14.6</td>\n",
       "      <td>1.95</td>\n",
       "    </tr>\n",
       "    <tr>\n",
       "      <th>USC00514830</th>\n",
       "      <td>KUALOA RANCH HEADQUARTERS 886.9, HI US</td>\n",
       "      <td>21.52130</td>\n",
       "      <td>-157.83740</td>\n",
       "      <td>7.0</td>\n",
       "      <td>2.00</td>\n",
       "    </tr>\n",
       "    <tr>\n",
       "      <th>USC00519281</th>\n",
       "      <td>WAIHEE 837.5, HI US</td>\n",
       "      <td>21.45167</td>\n",
       "      <td>-157.84889</td>\n",
       "      <td>32.9</td>\n",
       "      <td>2.08</td>\n",
       "    </tr>\n",
       "    <tr>\n",
       "      <th>USC00516128</th>\n",
       "      <td>MANOA LYON ARBO 785.2, HI US</td>\n",
       "      <td>21.33310</td>\n",
       "      <td>-157.80250</td>\n",
       "      <td>152.4</td>\n",
       "      <td>8.95</td>\n",
       "    </tr>\n",
       "    <tr>\n",
       "      <th>USC00517948</th>\n",
       "      <td>PEARL CITY, HI US</td>\n",
       "      <td>21.39340</td>\n",
       "      <td>-157.97510</td>\n",
       "      <td>11.9</td>\n",
       "      <td>NaN</td>\n",
       "    </tr>\n",
       "    <tr>\n",
       "      <th>USC00518838</th>\n",
       "      <td>UPPER WAHIAWA 874.3, HI US</td>\n",
       "      <td>21.49920</td>\n",
       "      <td>-158.01110</td>\n",
       "      <td>306.6</td>\n",
       "      <td>NaN</td>\n",
       "    </tr>\n",
       "    <tr>\n",
       "      <th>USC00511918</th>\n",
       "      <td>HONOLULU OBSERVATORY 702.2, HI US</td>\n",
       "      <td>21.31520</td>\n",
       "      <td>-157.99920</td>\n",
       "      <td>0.9</td>\n",
       "      <td>NaN</td>\n",
       "    </tr>\n",
       "  </tbody>\n",
       "</table>\n",
       "</div>"
      ],
      "text/plain": [
       "                                               Name  Latitude  Longitude  \\\n",
       "USC00519397                    WAIKIKI 717.2, HI US  21.27160 -157.81680   \n",
       "USC00519523      WAIMANALO EXPERIMENTAL FARM, HI US  21.33556 -157.71139   \n",
       "USC00513117                    KANEOHE 838.1, HI US  21.42340 -157.80150   \n",
       "USC00514830  KUALOA RANCH HEADQUARTERS 886.9, HI US  21.52130 -157.83740   \n",
       "USC00519281                     WAIHEE 837.5, HI US  21.45167 -157.84889   \n",
       "USC00516128            MANOA LYON ARBO 785.2, HI US  21.33310 -157.80250   \n",
       "USC00517948                       PEARL CITY, HI US  21.39340 -157.97510   \n",
       "USC00518838              UPPER WAHIAWA 874.3, HI US  21.49920 -158.01110   \n",
       "USC00511918       HONOLULU OBSERVATORY 702.2, HI US  21.31520 -157.99920   \n",
       "\n",
       "             Elevation  Avg. Precip  \n",
       "USC00519397        3.0         0.23  \n",
       "USC00519523       19.5         0.93  \n",
       "USC00513117       14.6         1.95  \n",
       "USC00514830        7.0         2.00  \n",
       "USC00519281       32.9         2.08  \n",
       "USC00516128      152.4         8.95  \n",
       "USC00517948       11.9          NaN  \n",
       "USC00518838      306.6          NaN  \n",
       "USC00511918        0.9          NaN  "
      ]
     },
     "execution_count": 169,
     "metadata": {},
     "output_type": "execute_result"
    }
   ],
   "source": [
    "## Daily Rainfall Average Challenge - Part I (B)\n",
    "# NOTE:  This was the first attempt, and after reviewing the two outputs, realized that without joining the databases,\n",
    "    # I'm getting station info where there is no rainfall data.  Re-ran the query with a simpler combo query above.\n",
    "# Calculate the total amount of rainfall per weather station for your trip using the previous year's matching dates.\n",
    "# Sort this in descending order by precipitation amount and list the station, name, latitude, longitude, and elevation\n",
    "\n",
    "# Query data\n",
    "trip_precip = session.query(Measurement.station, func.sum(Measurement.prcp)).\\\n",
    "    filter(Measurement.date >= \"2016-12-23\").\\\n",
    "    filter(Measurement.date <= \"2017-01-06\").\\\n",
    "    group_by(Measurement.station).all()\n",
    "\n",
    "station_info = session.query(Station.station, Station.name, Station.latitude, \n",
    "                             Station.longitude, Station.elevation).all()\n",
    "\n",
    "# Create dataframes for each query; first separate data into lists and then assemble dataframes\n",
    "# Rainfall datafram\n",
    "station_list=[]\n",
    "rainfall_list=[]\n",
    "for item in trip_precip:\n",
    "    station_list.append(item[0])\n",
    "    rainfall_list.append(item[1])\n",
    "    \n",
    "rainfall_df = pd.DataFrame({\"Avg. Precip\": rainfall_list}, station_list)\n",
    "\n",
    "# Station info dataframe\n",
    "station1_list =[]\n",
    "name_list =[]\n",
    "lat_list = []\n",
    "long_list =[]\n",
    "elev_list=[]\n",
    "for item in station_info:\n",
    "    station1_list.append(item[0])\n",
    "    name_list.append(item[1])\n",
    "    lat_list.append(item[2])\n",
    "    long_list.append(item[3])\n",
    "    elev_list.append(item[4])\n",
    "\n",
    "input = {\"Name\": name_list, \"Latitude\": lat_list, \"Longitude\": long_list, \"Elevation\": elev_list}\n",
    "station_df = pd.DataFrame(input, station1_list)\n",
    "\n",
    "# Merge dataframes\n",
    "Output_df = pd.concat([station_df, rainfall_df], axis=1)\n",
    "Output_df.sort_values(by=[\"Avg. Precip\"])"
   ]
  },
  {
   "cell_type": "code",
   "execution_count": 86,
   "metadata": {},
   "outputs": [],
   "source": [
    "## Daily Rainfall Average Challenge - Part II\n",
    "# Calculate the daily normals for your trip\n",
    "\n",
    "# Set the start and end date of the trip\n",
    "Start_date = dt.date(2016, 12, 23)\n",
    "End_date = dt.date(2017, 1, 6)\n",
    "\n",
    "# Loop through the list of %m-%d strings and calculate the normals for each date; append to list for each variable\n",
    "\n",
    "Date = Start_date\n",
    "date_list=[]\n",
    "tmin_list=[]\n",
    "tavg_list=[]\n",
    "tmax_list=[]\n",
    "\n",
    "while Date <= End_date:\n",
    "    date_string = Date.strftime(\"%m-%d\")\n",
    "    \n",
    "    date_list.append(Date)\n",
    "    \n",
    "    # Calculate and store tmin\n",
    "    tmin = session.query(func.min(Measurement.tobs).\\\n",
    "                         filter(func.strftime(\"%m-%d\", Measurement.date) == date_string)).all()\n",
    "    tmin_list.append(\"%4.2f\" % tmin[0])\n",
    "    \n",
    "    # Calculate and store tavg\n",
    "    tavg = session.query(func.avg(Measurement.tobs).\\\n",
    "                         filter(func.strftime(\"%m-%d\", Measurement.date) == date_string)).all()\n",
    "    tavg_list.append(\"%4.2f\" % tavg[0])\n",
    "    \n",
    "    # Calculate and store tmax\n",
    "    tmax = session.query(func.max(Measurement.tobs).\\\n",
    "                         filter(func.strftime(\"%m-%d\", Measurement.date) == date_string)).all()\n",
    "    tmax_list.append(\"%4.2f\" % tmax[0])\n",
    "    \n",
    "    # Print each row to check output\n",
    "    # print(Date, tmin[0], tavg[0], tmax[0])\n",
    "    \n",
    "    # Step \"Date\" by 1 day\n",
    "    Date += dt.timedelta(days=1)\n"
   ]
  },
  {
   "cell_type": "code",
   "execution_count": 87,
   "metadata": {},
   "outputs": [
    {
     "data": {
      "text/html": [
       "<div>\n",
       "<style scoped>\n",
       "    .dataframe tbody tr th:only-of-type {\n",
       "        vertical-align: middle;\n",
       "    }\n",
       "\n",
       "    .dataframe tbody tr th {\n",
       "        vertical-align: top;\n",
       "    }\n",
       "\n",
       "    .dataframe thead th {\n",
       "        text-align: right;\n",
       "    }\n",
       "</style>\n",
       "<table border=\"1\" class=\"dataframe\">\n",
       "  <thead>\n",
       "    <tr style=\"text-align: right;\">\n",
       "      <th></th>\n",
       "      <th>Daily Min</th>\n",
       "      <th>Daily Avg</th>\n",
       "      <th>Daily Max</th>\n",
       "    </tr>\n",
       "  </thead>\n",
       "  <tbody>\n",
       "    <tr>\n",
       "      <th>2016-12-23</th>\n",
       "      <td>61.00</td>\n",
       "      <td>70.35</td>\n",
       "      <td>78.00</td>\n",
       "    </tr>\n",
       "    <tr>\n",
       "      <th>2016-12-24</th>\n",
       "      <td>62.00</td>\n",
       "      <td>70.06</td>\n",
       "      <td>78.00</td>\n",
       "    </tr>\n",
       "    <tr>\n",
       "      <th>2016-12-25</th>\n",
       "      <td>60.00</td>\n",
       "      <td>71.75</td>\n",
       "      <td>79.00</td>\n",
       "    </tr>\n",
       "    <tr>\n",
       "      <th>2016-12-26</th>\n",
       "      <td>63.00</td>\n",
       "      <td>71.45</td>\n",
       "      <td>77.00</td>\n",
       "    </tr>\n",
       "    <tr>\n",
       "      <th>2016-12-27</th>\n",
       "      <td>62.00</td>\n",
       "      <td>71.92</td>\n",
       "      <td>79.00</td>\n",
       "    </tr>\n",
       "  </tbody>\n",
       "</table>\n",
       "</div>"
      ],
      "text/plain": [
       "           Daily Min Daily Avg Daily Max\n",
       "2016-12-23     61.00     70.35     78.00\n",
       "2016-12-24     62.00     70.06     78.00\n",
       "2016-12-25     60.00     71.75     79.00\n",
       "2016-12-26     63.00     71.45     77.00\n",
       "2016-12-27     62.00     71.92     79.00"
      ]
     },
     "execution_count": 87,
     "metadata": {},
     "output_type": "execute_result"
    }
   ],
   "source": [
    "# Store reuslts in dataframe; set index to the date range\n",
    "daily_input = {\"Daily Min\": tmin_list, \"Daily Avg\": tavg_list, \"Daily Max\": tmax_list}\n",
    "daily_norms_df = pd.DataFrame(daily_input, date_list)\n",
    "daily_norms_df.head()\n"
   ]
  },
  {
   "cell_type": "code",
   "execution_count": 500,
   "metadata": {},
   "outputs": [
    {
     "data": {
      "text/plain": [
       "(array([736320., 736321., 736322., 736323., 736324., 736325., 736326.,\n",
       "        736327., 736328., 736329., 736330., 736331., 736332., 736333.,\n",
       "        736334., 736335., 736336.]),\n",
       " <a list of 17 Text major ticklabel objects>)"
      ]
     },
     "execution_count": 500,
     "metadata": {},
     "output_type": "execute_result"
    },
    {
     "data": {
      "image/png": "[encoded data removed]",
      "text/plain": [
       "<Figure size 864x360 with 1 Axes>"
      ]
     },
     "metadata": {},
     "output_type": "display_data"
    }
   ],
   "source": [
    "# Plot daily norms (Note:  Average values, while displayed corretly in dataframe, would only plot as a straighline\n",
    "    # on the chart, which is incorrect.  Was unable to determine errors and thus removed from chart)\n",
    "\n",
    "fig, ax = plt.subplots(figsize=(12,5))\n",
    "x_axis=daily_norms_df.index\n",
    "\n",
    "#ax.set_ylim(55, 90)\n",
    "plt.fill_between(x_axis, daily_norms_df[\"Daily Min\"], color=\"lightpink\", alpha=1)\n",
    "# plt.fill_between(x_axis, daily_norms_df[\"Daily Avg\"], color=\"lightgreen\", alpha=0.5)\n",
    "plt.fill_between(x_axis, daily_norms_df[\"Daily Max\"], color=\"skyblue\", alpha=0.3)\n",
    "plt.title(\"Average Daily Tempuratures\", fontsize=14)\n",
    "ax.xaxis.set_major_locator(ticker.MultipleLocator(1))\n",
    "plt.xticks(rotation=45)\n",
    "           "
   ]
  },
  {
   "cell_type": "code",
   "execution_count": 88,
   "metadata": {},
   "outputs": [
    {
     "data": {
      "text/plain": [
       "[(61.0, 70.34693877551021, 78.0)]"
      ]
     },
     "execution_count": 88,
     "metadata": {},
     "output_type": "execute_result"
    }
   ],
   "source": [
    "# Daily_normals function -- calculates averages for tmin, tmax, and tavg for all historic data matching a specific \n",
    "    # month and day)\n",
    "\n",
    "def daily_normals(date):\n",
    "    \"\"\"Daily Normals.\n",
    "    \n",
    "    Args:\n",
    "        date (str): A date string in the format '%m-%d'\n",
    "        \n",
    "    Returns:\n",
    "        A list of tuples containing the daily normals, tmin, tavg, and tmax\n",
    "    \n",
    "    \"\"\"\n",
    "    \n",
    "    sel = [func.min(Measurement.tobs), func.avg(Measurement.tobs), func.max(Measurement.tobs)]\n",
    "    return session.query(*sel).filter(func.strftime(\"%m-%d\", Measurement.date) == date).all()\n",
    "    \n",
    "daily_normals(\"12-23\")"
   ]
  }
 ],
 "metadata": {
  "kernel_info": {
   "name": "python3"
  },
  "kernelspec": {
   "display_name": "Python 3",
   "language": "python",
   "name": "python3"
  },
  "language_info": {
   "codemirror_mode": {
    "name": "ipython",
    "version": 3
   },
   "file_extension": ".py",
   "mimetype": "text/x-python",
   "name": "python",
   "nbconvert_exporter": "python",
   "pygments_lexer": "ipython3",
   "version": "3.6.10"
  },
  "nteract": {
   "version": "0.12.3"
  },
  "varInspector": {
   "cols": {
    "lenName": 16,
    "lenType": 16,
    "lenVar": 40
   },
   "kernels_config": {
    "python": {
     "delete_cmd_postfix": "",
     "delete_cmd_prefix": "del ",
     "library": "var_list.py",
     "varRefreshCmd": "print(var_dic_list())"
    },
    "r": {
     "delete_cmd_postfix": ") ",
     "delete_cmd_prefix": "rm(",
     "library": "var_list.r",
     "varRefreshCmd": "cat(var_dic_list()) "
    }
   },
   "types_to_exclude": [
    "module",
    "function",
    "builtin_function_or_method",
    "instance",
    "_Feature"
   ],
   "window_display": false
  }
 },
 "nbformat": 4,
 "nbformat_minor": 2
}
